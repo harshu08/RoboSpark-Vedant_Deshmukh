{
 "cells": [
  {
   "cell_type": "code",
   "execution_count": 1,
   "metadata": {},
   "outputs": [],
   "source": [
    "import cv2"
   ]
  },
  {
   "cell_type": "code",
   "execution_count": 2,
   "metadata": {},
   "outputs": [],
   "source": [
    "face_cascade = cv2.CascadeClassifier(\"haarcascade_frontalface_default.xml\") #reading frontal face xml file\n",
    "eye_cascade = cv2.CascadeClassifier(\"haarcascade_eye.xml\") #reading eye xml file"
   ]
  },
  {
   "cell_type": "code",
   "execution_count": 3,
   "metadata": {},
   "outputs": [],
   "source": [
    "cap = cv2.VideoCapture(0)\n",
    "X,Y = 0,0"
   ]
  },
  {
   "cell_type": "code",
   "execution_count": 4,
   "metadata": {},
   "outputs": [],
   "source": [
    "while(1):\n",
    "    ret, frame = cap.read(0)\n",
    "    grayscale = cv2.cvtColor(frame, cv2.COLOR_BGR2GRAY)\n",
    "    faces = face_cascade.detectMultiScale(grayscale, 1.2, 5)\n",
    "    # FACE DETECTION\n",
    "    for (x, y, w, h) in faces:\n",
    "        cv2.line(frame, (x, y), (x + 30, y), (0, 255, 200), 2)\n",
    "        cv2.line(frame, (x, y), (x, y + 30), (0, 255, 200), 2)\n",
    "        cv2.line(frame, (x+w, y+h), (x+w - 30, y+h), (0, 255, 200), 2)\n",
    "        cv2.line(frame, (x+w, y+h), (x+w, y+h - 30), (0, 255, 200), 2)\n",
    "        cv2.line(frame, (x+w, y), (x+w - 30, y), (0, 255, 200), 2)\n",
    "        cv2.line(frame, (x+w, y), (x+w, y + 30), (0, 255, 200), 2)\n",
    "        cv2.line(frame, (x, y+h), (x + 30, y+h), (0, 255, 200), 2)\n",
    "        cv2.line(frame, (x, y+h), (x, y+h - 30), (0, 255, 200), 2)\n",
    "        # CONDITIONS FOR DIRECTION\n",
    "        if ( X > x + 3 ):\n",
    "            dir = 'Left Motion'\n",
    "        elif ( X < x - 3 ):\n",
    "            dir = 'Right Motion'\n",
    "        else:\n",
    "            dir = 'No Motion'\n",
    "        X, Y = x, y\n",
    "        cv2.putText(frame, \"Motion :\" + dir, (10, 30), cv2.FONT_HERSHEY_TRIPLEX, 0.8, (0, 0, 0), 1)\n",
    "\n",
    "    resImage = cv2.resize(frame, (600, 600))\n",
    "    cv2.imshow(\"Direction\", resImage)\n",
    "\n",
    "    k = cv2.waitKey(1)\n",
    "    if (k == 32):\n",
    "        break"
   ]
  },
  {
   "cell_type": "code",
   "execution_count": 5,
   "metadata": {},
   "outputs": [],
   "source": [
    "cap.release()\n",
    "cv2.destroyAllWindows()"
   ]
  },
  {
   "cell_type": "code",
   "execution_count": null,
   "metadata": {},
   "outputs": [],
   "source": []
  }
 ],
 "metadata": {
  "kernelspec": {
   "display_name": "Python 3",
   "language": "python",
   "name": "python3"
  },
  "language_info": {
   "codemirror_mode": {
    "name": "ipython",
    "version": 3
   },
   "file_extension": ".py",
   "mimetype": "text/x-python",
   "name": "python",
   "nbconvert_exporter": "python",
   "pygments_lexer": "ipython3",
   "version": "3.7.3"
  }
 },
 "nbformat": 4,
 "nbformat_minor": 2
}
